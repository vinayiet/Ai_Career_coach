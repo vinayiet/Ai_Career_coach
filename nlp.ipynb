{
 "cells": [
  {
   "cell_type": "markdown",
   "id": "e4898648",
   "metadata": {},
   "source": [
    "NLP Basics"
   ]
  },
  {
   "cell_type": "code",
   "execution_count": 7,
   "id": "f7cd327e",
   "metadata": {},
   "outputs": [
    {
     "name": "stdout",
     "output_type": "stream",
     "text": [
      "['he', 'is', 'a', 'good', 'boy', '.', 'he', 'belongs', 'to', 'delhi', '.']\n",
      "['he is a good boy.', 'he belongs to delhi.']\n"
     ]
    }
   ],
   "source": [
    "sentence = \"he is a good boy. he belongs to delhi.\"\n",
    "# word tokenization\n",
    "# [he, is, a, good, boy, '.']\n",
    "from nltk.tokenize import word_tokenize, sent_tokenize\n",
    "tokens = word_tokenize(sentence)\n",
    "print(tokens)\n",
    "sent_token = sent_tokenize(sentence)\n",
    "print(sent_token)"
   ]
  },
  {
   "cell_type": "code",
   "execution_count": null,
   "id": "7d8bbbab",
   "metadata": {},
   "outputs": [
    {
     "name": "stdout",
     "output_type": "stream",
     "text": [
      "['a', 'about', 'above', 'after', 'again', 'against', 'ain', 'all', 'am', 'an', 'and', 'any', 'are', 'aren', \"aren't\", 'as', 'at', 'be', 'because', 'been', 'before', 'being', 'below', 'between', 'both', 'but', 'by', 'can', 'couldn', \"couldn't\", 'd', 'did', 'didn', \"didn't\", 'do', 'does', 'doesn', \"doesn't\", 'doing', 'don', \"don't\", 'down', 'during', 'each', 'few', 'for', 'from', 'further', 'had', 'hadn', \"hadn't\", 'has', 'hasn', \"hasn't\", 'have', 'haven', \"haven't\", 'having', 'he', \"he'd\", \"he'll\", 'her', 'here', 'hers', 'herself', \"he's\", 'him', 'himself', 'his', 'how', 'i', \"i'd\", 'if', \"i'll\", \"i'm\", 'in', 'into', 'is', 'isn', \"isn't\", 'it', \"it'd\", \"it'll\", \"it's\", 'its', 'itself', \"i've\", 'just', 'll', 'm', 'ma', 'me', 'mightn', \"mightn't\", 'more', 'most', 'mustn', \"mustn't\", 'my', 'myself', 'needn', \"needn't\", 'no', 'nor', 'not', 'now', 'o', 'of', 'off', 'on', 'once', 'only', 'or', 'other', 'our', 'ours', 'ourselves', 'out', 'over', 'own', 're', 's', 'same', 'shan', \"shan't\", 'she', \"she'd\", \"she'll\", \"she's\", 'should', 'shouldn', \"shouldn't\", \"should've\", 'so', 'some', 'such', 't', 'than', 'that', \"that'll\", 'the', 'their', 'theirs', 'them', 'themselves', 'then', 'there', 'these', 'they', \"they'd\", \"they'll\", \"they're\", \"they've\", 'this', 'those', 'through', 'to', 'too', 'under', 'until', 'up', 've', 'very', 'was', 'wasn', \"wasn't\", 'we', \"we'd\", \"we'll\", \"we're\", 'were', 'weren', \"weren't\", \"we've\", 'what', 'when', 'where', 'which', 'while', 'who', 'whom', 'why', 'will', 'with', 'won', \"won't\", 'wouldn', \"wouldn't\", 'y', 'you', \"you'd\", \"you'll\", 'your', \"you're\", 'yours', 'yourself', 'yourselves', \"you've\"]\n"
     ]
    }
   ],
   "source": [
    "# 2. Stop word removal\n",
    "import nltk\n",
    "from nltk.corpus import stopwords\n",
    "\n",
    "stop_words = stopwords.words(('english'))\n",
    "# print(stop_words)\n",
    "filtered_words = [word for word in tokens if word not in stop_words]\n",
    "print(filtered_words)\n",
    "\n",
    "\n",
    "# tokenization -> to lowercase word -> stopword removal"
   ]
  },
  {
   "cell_type": "code",
   "execution_count": 12,
   "id": "8570cb38",
   "metadata": {},
   "outputs": [
    {
     "name": "stdout",
     "output_type": "stream",
     "text": [
      "['play', 'play', 'player', 'cat', 'uncondit']\n"
     ]
    }
   ],
   "source": [
    "# 3. Stemming and Lemmetization \n",
    "#  playing -> suffix -> 'ing' -> play \n",
    "from nltk.stem import PorterStemmer\n",
    "stemer = PorterStemmer()\n",
    "words = [\"playing\", \"plays\", \"player\", \"cats\", \"unconditional\"]\n",
    "stem_words = [stemer.stem(word) for word in words]\n",
    "print(stem_words)"
   ]
  },
  {
   "cell_type": "code",
   "execution_count": 13,
   "id": "4ba294e3",
   "metadata": {},
   "outputs": [
    {
     "name": "stdout",
     "output_type": "stream",
     "text": [
      "['playing', 'play', 'player', 'cat', 'unconditional']\n"
     ]
    }
   ],
   "source": [
    "# Lemmetization \n",
    "\n",
    "from nltk.stem import WordNetLemmatizer\n",
    "\n",
    "lemetizer = WordNetLemmatizer()\n",
    "words = [\"playing\", \"plays\", \"player\", \"cats\", \"unconditional\"]\n",
    "lemmetized_words = [lemetizer.lemmatize(word) for word in words]\n",
    "print(lemmetized_words)"
   ]
  },
  {
   "cell_type": "code",
   "execution_count": null,
   "id": "120d8f06",
   "metadata": {},
   "outputs": [],
   "source": []
  }
 ],
 "metadata": {
  "kernelspec": {
   "display_name": "rag (3.11.3)",
   "language": "python",
   "name": "python3"
  },
  "language_info": {
   "codemirror_mode": {
    "name": "ipython",
    "version": 3
   },
   "file_extension": ".py",
   "mimetype": "text/x-python",
   "name": "python",
   "nbconvert_exporter": "python",
   "pygments_lexer": "ipython3",
   "version": "3.11.3"
  }
 },
 "nbformat": 4,
 "nbformat_minor": 5
}
